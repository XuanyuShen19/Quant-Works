{
 "cells": [
  {
   "cell_type": "code",
   "execution_count": 58,
   "id": "bcfaa969",
   "metadata": {},
   "outputs": [],
   "source": [
    "import numpy as np\n",
    "import scipy.stats as stats"
   ]
  },
  {
   "cell_type": "code",
   "execution_count": 59,
   "id": "e9271834",
   "metadata": {},
   "outputs": [
    {
     "name": "stdout",
     "output_type": "stream",
     "text": [
      "estimated mean:  4.6540815622672875  confidence interval:  (4.620746613171156, 4.687416511363419)\n"
     ]
    }
   ],
   "source": [
    "#Problem 1\n",
    "# Set the seed for reproducibility\n",
    "np.random.seed(0)\n",
    "\n",
    "# Sample size\n",
    "n = 100000\n",
    "\n",
    "# Generate samples for U and its antithetic variates\n",
    "U = np.random.uniform(1, 2, n)\n",
    "U_antithetic = 3 - U  # Antithetic variates for U\n",
    "\n",
    "# Generate samples for Z and its antithetic variates\n",
    "Z = np.random.normal(-1, np.sqrt(2), n)\n",
    "Z_antithetic = - Z - 2  # Adjusted antithetic variates for Z\n",
    "\n",
    "# Combine original and antithetic samples\n",
    "combined_Z = (np.exp(Z) + np.exp(Z_antithetic))/2\n",
    "combined_U = (np.exp(U) + np.exp(U_antithetic))/2\n",
    "# Calculate e^(U+Z)\n",
    "exp_values = combined_U * combined_Z\n",
    "\n",
    "# Estimate the mean\n",
    "theta_estimate = np.mean(exp_values)\n",
    "\n",
    "# Calculate the 95% confidence interval\n",
    "std_error = np.std(exp_values) / np.sqrt(2 * n)\n",
    "confidence_interval = stats.norm.interval(0.95, loc=theta_estimate, scale=std_error)\n",
    "\n",
    "print(\"estimated mean: \",theta_estimate, \" confidence interval: \", confidence_interval)\n"
   ]
  },
  {
   "cell_type": "code",
   "execution_count": 60,
   "id": "e13e56ae",
   "metadata": {},
   "outputs": [
    {
     "name": "stdout",
     "output_type": "stream",
     "text": [
      "0.9649\n"
     ]
    }
   ],
   "source": [
    "#Problem 2\n",
    "#(a)\n",
    "Ua = np.random.uniform(-1,1, 10000) \n",
    "Ub = np.random.uniform(-1,1, 10000)\n",
    "print(np.mean(2*Ua**2 + 2*Ub**2 < 3))"
   ]
  },
  {
   "cell_type": "markdown",
   "id": "f0524973",
   "metadata": {},
   "source": [
    "Given:\n",
    "$$\n",
    "P(2U_a^2 + 2U_b^2 < 3 | U_a) = P\\left(-\\sqrt{\\frac{3}{2}} - U_a^2 < U_b < \\sqrt{\\frac{3}{2}} - U_a^2 | U_a\\right) \n",
    "$$\n",
    "When it satisfies $$U_a^2 > \\frac{1}{2}$$, we have:\n",
    "$$P\\left(-\\sqrt{\\frac{3}{2}} - U_a^2 < U_b < \\sqrt{\\frac{3}{2}} - U_a^2 | U_a\\right) = \\sqrt{\\frac{3}{2}} - U_a^2 $$\n",
    "\n",
    "Otherwise:\n",
    "$$P\\left(-\\sqrt{\\frac{3}{2}} - U_a^2 < U_b < \\sqrt{\\frac{3}{2}} - U_a^2 | U_a\\right) = 1 $$\n",
    "\n",
    "Therefore:\n",
    "$$ P(2U_a^2 + 2U_b^2 < 3 | U_a) = \\min\\left\\{\\sqrt{\\frac{3}{2}} - U_a^2, 1\\right\\} $$\n",
    "\n",
    "We need to generate \\(U_a\\) and estimate:\n",
    "$$ E\\left[\\min\\left\\{\\sqrt{\\frac{3}{2}} - U_a^2, 1\\right\\}\\right] $$\n"
   ]
  },
  {
   "cell_type": "code",
   "execution_count": 61,
   "id": "96ff818c",
   "metadata": {},
   "outputs": [
    {
     "name": "stdout",
     "output_type": "stream",
     "text": [
      "0.9625776733534352\n"
     ]
    }
   ],
   "source": [
    "#(b)\n",
    "Ua = np.random.uniform(-1,1, 10000)\n",
    "Pa = np.minimum(1, np.sqrt(3/2 - Ua**2)) \n",
    "print(np.mean(Pa))"
   ]
  },
  {
   "cell_type": "code",
   "execution_count": 108,
   "id": "2490ee5d",
   "metadata": {},
   "outputs": [
    {
     "name": "stdout",
     "output_type": "stream",
     "text": [
      "Results without control variates (price and half-widths):\n",
      "Prices: [9.43140237 8.45300491 7.55237638]\n",
      "Half-widths: [0.00903328 0.00863518 0.008233  ]\n",
      "\n",
      "Results with control variates (price and half-widths):\n",
      "Prices: [9.44384549 8.46705652 7.56607339]\n",
      "Half-widths: [0.00374279 0.00384234 0.00391508]\n"
     ]
    }
   ],
   "source": [
    "#problem3\n",
    "import numpy as np\n",
    "from scipy.stats import norm\n",
    "\n",
    "# Given parameters\n",
    "S = 100  # initial stock price\n",
    "K = [98, 100, 102]  # strike prices\n",
    "r = 0.01  # risk-free rate\n",
    "sigma = 0.3  # volatility\n",
    "T = 1  # time to maturity\n",
    "m = 4  # number of observation points\n",
    "delta = 0.05  # confidence interval\n",
    "lenK = len(K)  # number of strike prices\n",
    "\n",
    "# Function to calculate prices and half-widths without control variates\n",
    "def price_without_control_variates(N):\n",
    "    M = np.tril(np.ones((m, m)), 0)  # lower triangular matrix\n",
    "    Z = np.random.randn(m, N)\n",
    "    V = np.dot(M, Z)\n",
    "    A_T = np.dot(S*np.ones((1, m)), np.exp((r-sigma**2/2)*T/m*(np.arange(1, m+1).reshape(1, m).T*np.ones((1, N))) +\n",
    "                 sigma*np.sqrt(T/m)*V)) / m\n",
    "\n",
    "    p = np.zeros(lenK)\n",
    "    D = np.zeros(lenK)\n",
    "    for k in np.arange(lenK):\n",
    "        X = np.exp(-r*T)*np.maximum(A_T-K[k], 0)  # discounted Asian call payoff\n",
    "        p[k] = np.mean(X)\n",
    "        D[k] = norm.ppf(1-(1-delta)/2)*np.std(X)/np.sqrt(N)\n",
    "    \n",
    "    return p, D\n",
    "\n",
    "# Function to calculate prices and half-widths with control variates\n",
    "def price_with_control_variates(N):\n",
    "    M = np.tril(np.ones((m, m)), 0)\n",
    "    Z = np.random.randn(m, N)\n",
    "    V = np.dot(M, Z)\n",
    "\n",
    "    # Control variate A_T\n",
    "    A_T = np.dot(S*np.ones((1, m)), np.exp((r-sigma**2/2)*T/m*(np.arange(1, m+1).reshape(1, m).T*np.ones((1, N))) +\n",
    "                 sigma*np.sqrt(T/m)*V)) / m\n",
    "    A_Tmean = np.dot(S*np.ones((1, m)), np.exp(r*np.arange(1, m+1).reshape(1, m).T*T/m)) / m\n",
    "    cstar = np.zeros((lenK, 1))\n",
    "\n",
    "    for k in np.arange(lenK):\n",
    "        x_var = np.hstack([np.ones((1, N)).T, (A_T - A_Tmean).T])\n",
    "        output = np.linalg.lstsq(x_var, np.exp(-r*T)*np.maximum(A_T-K[k], 0).T, rcond=None)\n",
    "        cstar[k] = -output[0][1]  # the second beta of the slopes\n",
    "\n",
    "    # Recalculate A_T for new Z\n",
    "    Z = np.random.randn(m, N)\n",
    "    V = np.dot(M, Z)\n",
    "    A_T = np.dot(S*np.ones((1, m)), np.exp((r-sigma**2/2)*T/m*(np.arange(1, m+1).reshape(1, m).T*np.ones((1, N))) +\n",
    "                 sigma*np.sqrt(T/m)*V)) / m\n",
    "    p_c = np.zeros(lenK)\n",
    "    D_c = np.zeros(lenK)\n",
    "\n",
    "    for k in np.arange(lenK):\n",
    "        Cont = A_T - K[k]\n",
    "        Y = np.exp(-r*T)*np.maximum(Cont, 0) + cstar[k]*((Cont + K[k]) - A_Tmean)\n",
    "        p_c[k] = np.mean(Y)  # prices for 3 diff strikes\n",
    "        D_c[k] = norm.ppf(1-(1-delta)/2)*np.std(Y)/np.sqrt(N)  # half-width\n",
    "\n",
    "    return p_c, D_c\n",
    "\n",
    "# Calculate prices and half-widths without control variates\n",
    "prices_without_cv, half_widths_without_cv = price_without_control_variates(10000)\n",
    "\n",
    "# Calculate prices and half-widths with control variates\n",
    "prices_with_cv, half_widths_with_cv = price_with_control_variates(10000)\n",
    "\n",
    "# results\n",
    "print('Results without control variates (price and half-widths):')\n",
    "print('Prices:', prices_without_cv)\n",
    "print('Half-widths:', half_widths_without_cv)\n",
    "\n",
    "print('\\nResults with control variates (price and half-widths):')\n",
    "print('Prices:', prices_with_cv)\n",
    "print('Half-widths:', half_widths_with_cv)\n"
   ]
  },
  {
   "cell_type": "markdown",
   "id": "4a99f5e0",
   "metadata": {},
   "source": [
    "By including $A_T$ as an additional control variate, we observe an improvement in the half-lengths of the confidence intervals, which have decreased, indicating a more precise estimate. The reductions in half-lengths are approximately $60\\%$, $57\\%$, and $54\\%$ for the respective strike prices, which shows that using two control variates can result in a more accurate estimation of the option price with tighter confidence intervals.\n"
   ]
  },
  {
   "cell_type": "code",
   "execution_count": 106,
   "id": "8d61c4b1",
   "metadata": {},
   "outputs": [
    {
     "name": "stdout",
     "output_type": "stream",
     "text": [
      "probability:  0.7432757026760688\n"
     ]
    }
   ],
   "source": [
    "#Problem 4\n",
    " \n",
    "sample = 100000\n",
    "#rates\n",
    "lam_x = 1/2\n",
    "lam_y = 1/3\n",
    "\n",
    "U = np.random.uniform(0,1,sample)\n",
    "\n",
    "#Inverse Transform for exponential\n",
    "Y = -3*np.log(U)\n",
    "\n",
    "#Conditional expecation\n",
    "P = 1-np.exp(-lam_x*(4-Y))\n",
    "P[Y>=4]=1\n",
    "print('probability: ', np.mean(P))"
   ]
  },
  {
   "cell_type": "code",
   "execution_count": 107,
   "id": "71e4a42d",
   "metadata": {},
   "outputs": [
    {
     "name": "stdout",
     "output_type": "stream",
     "text": [
      "Estimated probability P(V > 20): 2.495160085837659e-10\n"
     ]
    }
   ],
   "source": [
    "#Problem 5\n",
    "\n",
    "\n",
    "# Parameters\n",
    "sample_size = 100000\n",
    "lambda_1, lambda_2 = 1, 2  \n",
    "lambda_1_prime, lambda_2_prime = 0.5, 1  \n",
    "\n",
    "# Generate samples from importance distributions\n",
    "samples_X1 = np.random.exponential(1/lambda_1_prime, sample_size)\n",
    "samples_X2 = np.random.exponential(1/lambda_2_prime, sample_size)\n",
    "\n",
    "# Calculate likelihood ratios for each sample\n",
    "L_X1 = (lambda_1 / lambda_1_prime) * np.exp((lambda_1_prime - lambda_1) * samples_X1)\n",
    "L_X2 = (lambda_2 / lambda_2_prime) * np.exp((lambda_2_prime - lambda_2) * samples_X2)\n",
    "\n",
    "# Estimate probability\n",
    "V = np.maximum(samples_X1, samples_X2)\n",
    "event_indicator = (V > 20).astype(int)\n",
    "probability_estimate = np.mean(event_indicator * L_X1 * L_X2)\n",
    "\n",
    "print(f\"Estimated probability P(V > 20): {probability_estimate}\")\n"
   ]
  },
  {
   "cell_type": "code",
   "execution_count": null,
   "id": "c487d15b",
   "metadata": {},
   "outputs": [],
   "source": []
  }
 ],
 "metadata": {
  "kernelspec": {
   "display_name": "Python 3 (ipykernel)",
   "language": "python",
   "name": "python3"
  },
  "language_info": {
   "codemirror_mode": {
    "name": "ipython",
    "version": 3
   },
   "file_extension": ".py",
   "mimetype": "text/x-python",
   "name": "python",
   "nbconvert_exporter": "python",
   "pygments_lexer": "ipython3",
   "version": "3.9.7"
  }
 },
 "nbformat": 4,
 "nbformat_minor": 5
}
