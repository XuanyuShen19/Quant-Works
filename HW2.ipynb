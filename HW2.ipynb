{
 "cells": [
  {
   "cell_type": "markdown",
   "id": "6d60e397",
   "metadata": {},
   "source": [
    "## Q1\n",
    "(a)"
   ]
  },
  {
   "cell_type": "code",
   "execution_count": 3,
   "id": "2c0c17c7",
   "metadata": {},
   "outputs": [
    {
     "data": {
      "text/plain": [
       "0.3379602284119641"
      ]
     },
     "execution_count": 3,
     "metadata": {},
     "output_type": "execute_result"
    }
   ],
   "source": [
    "\n",
    "import numpy as np\n",
    "\n",
    "n = 20000 \n",
    "u = np.random.uniform(0,1,size = n)\n",
    "x = 1-np.sqrt(1-u)\n",
    "np.mean(x)"
   ]
  },
  {
   "cell_type": "markdown",
   "id": "e8d802f1",
   "metadata": {},
   "source": [
    "(b)"
   ]
  },
  {
   "cell_type": "code",
   "execution_count": 4,
   "id": "c5fd3b88",
   "metadata": {},
   "outputs": [
    {
     "data": {
      "text/plain": [
       "0.6680865958390407"
      ]
     },
     "execution_count": 4,
     "metadata": {},
     "output_type": "execute_result"
    }
   ],
   "source": [
    "n = 20000 #sample size\n",
    "u = np.random.uniform(0,1,size = n) \n",
    "x = np.sqrt(u) # integrand\n",
    "np.mean(x)"
   ]
  },
  {
   "cell_type": "markdown",
   "id": "9b668349",
   "metadata": {},
   "source": [
    "(c)"
   ]
  },
  {
   "cell_type": "code",
   "execution_count": 12,
   "id": "10ecf55e",
   "metadata": {},
   "outputs": [
    {
     "data": {
      "text/plain": [
       "0.3320299121041706"
      ]
     },
     "execution_count": 12,
     "metadata": {},
     "output_type": "execute_result"
    }
   ],
   "source": [
    "import numpy as np\n",
    "n = 20000\n",
    "lamb = 1\n",
    "u = np.random.uniform(0,1,size = n)\n",
    "x = np.log(1-u)/((-3)*lamb)\n",
    "np.mean(x)"
   ]
  },
  {
   "cell_type": "markdown",
   "id": "bad04506",
   "metadata": {},
   "source": [
    "## Q2"
   ]
  },
  {
   "cell_type": "code",
   "execution_count": 22,
   "id": "4b01464d",
   "metadata": {},
   "outputs": [
    {
     "name": "stdout",
     "output_type": "stream",
     "text": [
      "mean:  0.3320299121041706 variance:  0.11005525239348345\n"
     ]
    }
   ],
   "source": [
    "n = 10000 #sample size\n",
    "u = np.random.uniform(0,1,size = n) # numpy array of uniform random\n",
    "lis=[]\n",
    "lamb = 1\n",
    "for i in range(n):\n",
    "    k = 0\n",
    "    p = np.exp(-lamb)\n",
    "    while p<u[i]:\n",
    "        k += 1\n",
    "        p += np.exp(-lamb)*lamb**k/np.math.factorial(k) \n",
    "        lis.append(k)\n",
    "print('mean: ', np.mean(x), \"variance: \", np.var(x))"
   ]
  },
  {
   "cell_type": "markdown",
   "id": "497b5820",
   "metadata": {},
   "source": [
    "## Q3"
   ]
  },
  {
   "cell_type": "code",
   "execution_count": 28,
   "id": "d1414794",
   "metadata": {},
   "outputs": [
    {
     "name": "stdout",
     "output_type": "stream",
     "text": [
      "mean:  0.41029887789129704 variance:  0.1150458623962972\n"
     ]
    }
   ],
   "source": [
    "import numpy as np\n",
    "n = 10000 \n",
    "u1 = np.random.uniform(0,1,size = n) \n",
    "u2 = np.random.uniform(0,1,size = n) \n",
    "y = -np.log(u1)\n",
    "x = u2**(1/y)\n",
    "print('mean: ',np.mean(x), 'variance: ',np.var(x))"
   ]
  },
  {
   "cell_type": "markdown",
   "id": "f021f557",
   "metadata": {},
   "source": [
    "## Q4"
   ]
  },
  {
   "cell_type": "markdown",
   "id": "b3c9d1a1",
   "metadata": {},
   "source": [
    "the maximum value of f(x) is 2, we can take g(y) as a constant function 1, which is g(y) = 1, and a = 2 can make g(y) dominate f(x)"
   ]
  },
  {
   "cell_type": "code",
   "execution_count": 33,
   "id": "2740d269",
   "metadata": {},
   "outputs": [
    {
     "name": "stdout",
     "output_type": "stream",
     "text": [
      "Average number of iterations:  2.00418\n"
     ]
    }
   ],
   "source": [
    "\n",
    "n = 100000\n",
    "\n",
    "iteration = 0\n",
    "lis = []\n",
    "for i in range(n):\n",
    "    Y = np.random.uniform(0,1) \n",
    "    U = np.random.uniform(0,1)\n",
    "    iteration += 1\n",
    "    while U > 1-Y:\n",
    "        Y = np.random.uniform(0,1) \n",
    "        U = np.random.uniform(0,1)\n",
    "        iteration += 1\n",
    "    lis.append(Y)\n",
    "\n",
    "print(\"Average number of iterations: \", iteration/n)"
   ]
  },
  {
   "cell_type": "markdown",
   "id": "5e7d0c3f",
   "metadata": {},
   "source": [
    "## Q5"
   ]
  },
  {
   "cell_type": "code",
   "execution_count": 50,
   "id": "8cfc2d14",
   "metadata": {},
   "outputs": [
    {
     "name": "stdout",
     "output_type": "stream",
     "text": [
      "-0.0062095709017813 1.0081129165317186\n",
      "2.6236\n"
     ]
    }
   ],
   "source": [
    "# a = 1.315\n",
    "n = 10000\n",
    "it = 0\n",
    "lis = []\n",
    "a = 1.315\n",
    "for i in range(n):\n",
    "    u1 = np.random.uniform(0,1)\n",
    "    u2 = np.random.uniform(0,1)\n",
    "    it += 2\n",
    "    y = -np.sign(u1-1/2)*np.log(2*abs(u1-1/2)) \n",
    "    while u2 > (1/np.sqrt(2*np.pi)*np.exp(-y**2/2))/(a*1/2*np.exp(-abs(y))):\n",
    "        u1 = np.random.uniform(0,1)\n",
    "        u2 = np.random.uniform(0,1) \n",
    "        it += 2\n",
    "        y = -np.sign(u1-1/2)*np.log(2*abs(u1-1/2))\n",
    "    lis.append(y)\n",
    "\n",
    "print(np.mean(lis), np.var(lis))\n",
    "print(it/n)"
   ]
  },
  {
   "cell_type": "code",
   "execution_count": 55,
   "id": "ad92a23d",
   "metadata": {},
   "outputs": [
    {
     "data": {
      "image/png": "[encoded data removed]",
      "text/plain": [
       "<Figure size 432x288 with 1 Axes>"
      ]
     },
     "metadata": {
      "needs_background": "light"
     },
     "output_type": "display_data"
    }
   ],
   "source": [
    "import matplotlib.pyplot as plt\n",
    "plt.hist(lis, bins=1000)\n",
    "plt.show()"
   ]
  },
  {
   "cell_type": "code",
   "execution_count": null,
   "id": "d36cb625",
   "metadata": {},
   "outputs": [],
   "source": []
  },
  {
   "cell_type": "code",
   "execution_count": null,
   "id": "3c60d3a7",
   "metadata": {},
   "outputs": [],
   "source": []
  },
  {
   "cell_type": "code",
   "execution_count": null,
   "id": "c4f43743",
   "metadata": {},
   "outputs": [],
   "source": []
  }
 ],
 "metadata": {
  "kernelspec": {
   "display_name": "Python 3 (ipykernel)",
   "language": "python",
   "name": "python3"
  },
  "language_info": {
   "codemirror_mode": {
    "name": "ipython",
    "version": 3
   },
   "file_extension": ".py",
   "mimetype": "text/x-python",
   "name": "python",
   "nbconvert_exporter": "python",
   "pygments_lexer": "ipython3",
   "version": "3.9.7"
  }
 },
 "nbformat": 4,
 "nbformat_minor": 5
}
