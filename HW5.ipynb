{
 "cells": [
  {
   "cell_type": "code",
   "execution_count": 1,
   "id": "f359e506",
   "metadata": {},
   "outputs": [],
   "source": [
    "import numpy as np\n",
    "from scipy import stats\n",
    "import matplotlib.pyplot as plt\n",
    "\n",
    "\n",
    "#Q1"
   ]
  },
  {
   "cell_type": "markdown",
   "id": "cfa4dcd7",
   "metadata": {},
   "source": [
    "1.\n",
    "$$\n",
    "X_T = e^{-\\theta T}X_0 + \\mu(1 - e^{-\\theta T}) + \\sigma\\sqrt{\\frac{1 - e^{-2\\theta T}}{2\\theta}} \\cdot Z,\n",
    "$$\n",
    "where $$ Z \\sim \\mathcal{N}(0, 1) $$. Since $$ S_0 = \\exp(X_0) $$,\n",
    "$$\n",
    "S_T = \\exp(e^{-\\theta T}X_0) \\cdot \\exp\\left(\\mu(1 - e^{-\\theta T})\\right) \\cdot \\exp\\left(\\sigma\\sqrt{\\frac{1 - e^{-2\\theta T}}{2\\theta}} \\cdot Z\\right)\n",
    "$$\n",
    "$$\n",
    "= (S_0)e^{-\\theta T} \\cdot \\exp\\left(\\mu(1 - e^{-\\theta T})\\right) \\cdot \\exp\\left(\\sigma\\sqrt{\\frac{1 - e^{-2\\theta T}}{2\\theta}} \\cdot Z\\right)\n",
    "$$\n",
    "\n",
    "\n",
    "$$\n",
    "\\frac{dY}{dS_0} = \\frac{dY}{dS_T} \\cdot \\frac{dS_T}{dS_0} = e^{-rT}1_{S_T<K} \\cdot e^{-\\theta T}\\frac{S_T}{S_0}\n",
    "$$"
   ]
  },
  {
   "cell_type": "code",
   "execution_count": 2,
   "id": "74544919",
   "metadata": {},
   "outputs": [
    {
     "name": "stdout",
     "output_type": "stream",
     "text": [
      "K:  90 mean:  -0.23943425838357787 variance:  0.10681403912985542\n",
      "K:  100 mean:  -0.36228876976281815 variance:  0.13749668214775523\n",
      "K:  110 mean:  -0.48461992001290144 variance:  0.14886893858720465\n"
     ]
    }
   ],
   "source": [
    "S0 = 100\n",
    "mu = 4.6\n",
    "theta = 0.1\n",
    "sigma = 0.3\n",
    "r = 0.01\n",
    "T = 1\n",
    "\n",
    "for K in [90, 100, 110]:\n",
    "    Z = np.random.normal(size=1000000)\n",
    "    ST = S0 ** (np.exp(-theta*T)) * np.exp(mu*(1-np.exp(-theta*T))+sigma*np.sqrt((1-np.exp(-2*theta*T))/(2*theta))*Z)\n",
    "    pathwise = -np.exp(-r*T) * (ST<K) * np.exp(-theta*T) * ST/S0\n",
    "    print('K: ', K, 'mean: ', np.mean(pathwise), 'variance: ', np.var(pathwise))"
   ]
  },
  {
   "cell_type": "code",
   "execution_count": 3,
   "id": "1e53bb4e",
   "metadata": {},
   "outputs": [],
   "source": [
    "#Q2"
   ]
  },
  {
   "cell_type": "markdown",
   "id": "58eb577b",
   "metadata": {},
   "source": [
    "$$\n",
    "\\mathbb{E}[e^{-rT}h(S_{T/2}, S_T)] = \\mathbb{E}[\\mathbb{E}[e^{-rT}h(S_{T/2}, S_T)|S_{T/2}]]\n",
    "$$\n",
    "$$\n",
    "= \\mathbb{E}\\left[ e^{-\\frac{rT}{2}} \\left( 1_{\\{S_{T/2}\\leq L\\}}C_{BS}\\left(\\frac{T}{2}, S_{T/2}; r, \\sigma, T, K_1\\right) + 1_{\\{S_{T/2}>L\\}}C_{BS}\\left(\\frac{T}{2}, S_{T/2}; r, \\sigma, T, K_2\\right) \\right) \\right]\n",
    "$$\n",
    "$$\n",
    "= \\mathbb{E}\\left[e^{-\\frac{rT}{2}} H(S_{T/2})\\right]\n",
    "$$\n",
    "\n",
    "Since\n",
    "$$\n",
    "\\frac{dg(x)}{dS_0} = \\frac{\\log(x/S_0) - (r - \\sigma^2/2)T/2}{S_0 \\sigma \\sqrt{T/2}} \\cdot \\frac{1}{g(x)}\n",
    "$$, we have\n",
    "$$\n",
    "\\mathbb{E}\\left[e^{-\\frac{rT}{2}}H(S_{T/2})\\right] = \\frac{\\log(S_{T/2}/S_0) - (r - \\sigma^2/2)T/2}{S_0 \\sigma \\sqrt{T/2}}\n",
    "$$\n",
    "\n",
    "$$\n",
    "e^{-\\frac{rT}{2}}H(S_{T/2}) = e^{-\\frac{rT}{2}}\\left(S_0 e^{(r-\\sigma^2/2)T/2+\\sigma \\sqrt{T/2}Z}\\right) \\cdot \\frac{Z}{S_0 \\sigma \\sqrt{T/2}}.\n",
    "$$\n"
   ]
  },
  {
   "cell_type": "code",
   "execution_count": 4,
   "id": "36ee6eae",
   "metadata": {},
   "outputs": [
    {
     "name": "stdout",
     "output_type": "stream",
     "text": [
      "0.40312595973606546\n"
     ]
    }
   ],
   "source": [
    "import numpy as np\n",
    "\n",
    "def BS(t, S, r, sigma, T, K):\n",
    "    d1 = (np.log(S/K) + (r-sigma**2/2)*(T-t)) / (sigma*np.sqrt(T-t))\n",
    "    d2 = d1 - sigma*np.sqrt(T-t)\n",
    "    C = stats.norm.cdf(d1)*S - stats.norm.cdf(d2)*K*np.exp(-r*(T-t))\n",
    "    return C\n",
    "\n",
    "S0 = 100\n",
    "sigma = 0.25\n",
    "r = 0.01\n",
    "T = 1\n",
    "K1 = 100\n",
    "K2 = 110\n",
    "L = 90\n",
    "\n",
    "Z = np.random.normal(size=200000)\n",
    "ST2 = S0 * np.exp(((r-sigma**2/2)*T/2 + sigma*np.sqrt(T/2)*Z))\n",
    "formula = (ST2 <= L)*BS(T/2, ST2, r, sigma, T, K1) + (ST2 >= L)*BS(T/2, ST2, r, sigma, T, K2)\n",
    "LR = np.exp(-r*T/2) * formula * Z/(S0*sigma*np.sqrt(T/2))\n",
    "print(np.mean(LR))"
   ]
  },
  {
   "cell_type": "code",
   "execution_count": 6,
   "id": "f995e7d1",
   "metadata": {},
   "outputs": [
    {
     "data": {
      "text/plain": [
       "<matplotlib.legend.Legend at 0x7fa89be795b0>"
      ]
     },
     "execution_count": 6,
     "metadata": {},
     "output_type": "execute_result"
    },
    {
     "data": {
      "image/png": "[encoded data removed]",
      "text/plain": [
       "<Figure size 432x288 with 1 Axes>"
      ]
     },
     "metadata": {
      "needs_background": "light"
     },
     "output_type": "display_data"
    }
   ],
   "source": [
    "#Q3\n",
    "rhos = [0.2, 0.5, 0.8]\n",
    "y = np.linspace(0, 0.2, 1000)\n",
    "\n",
    "#loss function\n",
    "def loss_p(y, rho, p=0.01):\n",
    "    prob = stats.norm.cdf((stats.norm.ppf(1-p) - np.sqrt(1-rho)*stats.norm.ppf(1-y)) / np.sqrt(rho))\n",
    "    return prob\n",
    "\n",
    "\n",
    "\n",
    "#iteration\n",
    "for rho in rhos:\n",
    "    plt.plot(y, loss_p(y, rho))\n",
    "plt.legend(rhos)\n"
   ]
  },
  {
   "cell_type": "code",
   "execution_count": 8,
   "id": "11bfe767",
   "metadata": {},
   "outputs": [
    {
     "data": {
      "image/png": "[encoded data removed]",
      "text/plain": [
       "<Figure size 432x288 with 1 Axes>"
      ]
     },
     "metadata": {
      "needs_background": "light"
     },
     "output_type": "display_data"
    },
    {
     "data": {
      "image/png": "[encoded data removed]",
      "text/plain": [
       "<Figure size 432x288 with 1 Axes>"
      ]
     },
     "metadata": {
      "needs_background": "light"
     },
     "output_type": "display_data"
    },
    {
     "data": {
      "image/png": "[encoded data removed]",
      "text/plain": [
       "<Figure size 432x288 with 1 Axes>"
      ]
     },
     "metadata": {
      "needs_background": "light"
     },
     "output_type": "display_data"
    }
   ],
   "source": [
    "import scipy.stats as st\n",
    "import scipy.special\n",
    "\n",
    "dz = 0.01\n",
    "zs = np.arange(-5, 5, dz)\n",
    "rhos = [0.2, 0.5, 0.8]\n",
    "\n",
    "#tild function\n",
    "def tilde(z, rho, p=0.01):\n",
    "    x = st.norm.ppf(1-p)\n",
    "    return 1 - st.norm.cdf((x - np.sqrt(rho)*z) / np.sqrt(1-rho))\n",
    "\n",
    "\n",
    "#iteration\n",
    "for m in [10, 25, 50]:\n",
    "    plt.figure()\n",
    "    for rho in rhos[::-1]:\n",
    "        P = []\n",
    "        for l in range(m+1):\n",
    "            P.append(scipy.special.comb(m, l) * np.sum(tilde(zs, rho)**l * (1-tilde(zs, rho))**(m-l) * st.norm.pdf(zs) * dz))\n",
    "        plt.plot(P)\n",
    "    plt.legend(rhos)"
   ]
  },
  {
   "cell_type": "code",
   "execution_count": 9,
   "id": "7f977556",
   "metadata": {},
   "outputs": [
    {
     "name": "stdout",
     "output_type": "stream",
     "text": [
      "0.007429\n"
     ]
    }
   ],
   "source": [
    "#simulation:\n",
    "r = 0.5\n",
    "p = 0.01\n",
    "m = 50\n",
    "x = st.norm.ppf(1-p)\n",
    "\n",
    "sample = 1000000\n",
    "Z = np.random.normal(size=(sample,1))\n",
    "epsilon = np.random.normal(size=(sample,m))\n",
    "X = np.sqrt(r)*Z + np.sqrt(1-r)*epsilon\n",
    "Y = X>x\n",
    "L = np.sum(Y, axis=1)\n",
    "\n",
    "print(np.mean(L>10))"
   ]
  },
  {
   "cell_type": "code",
   "execution_count": null,
   "id": "d2210083",
   "metadata": {},
   "outputs": [],
   "source": []
  }
 ],
 "metadata": {
  "kernelspec": {
   "display_name": "Python 3 (ipykernel)",
   "language": "python",
   "name": "python3"
  },
  "language_info": {
   "codemirror_mode": {
    "name": "ipython",
    "version": 3
   },
   "file_extension": ".py",
   "mimetype": "text/x-python",
   "name": "python",
   "nbconvert_exporter": "python",
   "pygments_lexer": "ipython3",
   "version": "3.9.7"
  }
 },
 "nbformat": 4,
 "nbformat_minor": 5
}
